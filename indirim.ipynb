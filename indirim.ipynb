{
  "nbformat": 4,
  "nbformat_minor": 0,
  "metadata": {
    "colab": {
      "name": "indirim.ipynb",
      "provenance": [],
      "collapsed_sections": [],
      "authorship_tag": "ABX9TyN3/4TzNGwjwIvzq7dO8D7k",
      "include_colab_link": true
    },
    "kernelspec": {
      "name": "python3",
      "display_name": "Python 3"
    }
  },
  "cells": [
    {
      "cell_type": "markdown",
      "metadata": {
        "id": "view-in-github",
        "colab_type": "text"
      },
      "source": [
        "<a href=\"https://colab.research.google.com/github/muratuzun79kou/yl_asiio/blob/master/indirim.ipynb\" target=\"_parent\"><img src=\"https://colab.research.google.com/assets/colab-badge.svg\" alt=\"Open In Colab\"/></a>"
      ]
    },
    {
      "cell_type": "markdown",
      "metadata": {
        "id": "3Q1lucmdcQne",
        "colab_type": "text"
      },
      "source": [
        "**KARŞILAŞMA İHTİMALİ**\n",
        "\n",
        "**Konu :** \n",
        "\n",
        "Online bir alışveriş sitesinde satılan ürünler kategorilere ayrılmıştır. Site, kullanıcılarına, beğendikleri ürünlere daha sonra kolay bir şekilde erişebilmeleri için \"Beğendiklerim\" adıyla liste oluşturmaya ve bu listeye ürünleri eklemeye imkan tanımaktadır. Site, zaman zaman birçok üründe indirimler yapmaktadır ve bunu kullanıcılarına iletmektedir.\n",
        "\n",
        "**Amaç :** \n",
        "\n",
        "Online alışveriş sitesinin belirli bir kategorideki ürünler için indirim yaptığında, kullanıcının daha önceden oluşturmuş olduğu \"Beğendiklerim\" listesindeki, aynı kategoriye ait ürünlerden en az birinin bu indirimde bulunma olasılığının hesaplanması.\n",
        "\n",
        "Çözüm :\n",
        "\n",
        "**s** = İlgili kategoriden indirime girmiş ürün sayısı\n",
        "\n",
        "**f** = İlgili kategoriden 'Beğendiklerim' listesine ekli ürün sayısı\n",
        "\n",
        "**p** = Alışveriş sitesindeki, belirli bir kategorideki toplam ürün sayısı\n",
        "\n",
        "**Çözüm = 1 - ( C(p-f,s) / C(p,s) )**\n",
        "\n",
        "Kod kısmında, daha önceki ödevde hazırlamış olduğun faktoriyel ve permutasyon fonksiyonlarımı kullanmayı tercih ettim. \n",
        "\n",
        "C(n,r) = P(n,r) / r! \n",
        "\n",
        "olduğundan, kombinasyon adında bir fonksiyon tanımlayıp bu fonksiyonun permutasyon ve faktoriyel fonksiyonlarını çağırarak sonuç üretmesini sağladım.\n",
        "\n",
        "\n"
      ]
    },
    {
      "cell_type": "markdown",
      "metadata": {
        "id": "c9mn9zdpisrB",
        "colab_type": "text"
      },
      "source": [
        ""
      ]
    },
    {
      "cell_type": "code",
      "metadata": {
        "id": "2F1MoS96boNX",
        "colab_type": "code",
        "outputId": "1ca94f31-69be-4341-cd32-bcc21c5cbd38",
        "colab": {
          "base_uri": "https://localhost:8080/",
          "height": 235
        }
      },
      "source": [
        "#!/usr/bin/env python\n",
        "# -*- coding: utf-8 -*-\n",
        "\n",
        "import sys\n",
        "sys.float_info.max\n",
        "\n",
        "def kombinasyon(n,r):\n",
        "    ust = permutasyon(n,r)\n",
        "    alt = faktoriyel(r)\n",
        "    bolum = ust // alt\n",
        "    #print (\"ust=\"+str(ust))\n",
        "    #print (\"alt=\" + str(alt))\n",
        "    #print (\"bolum=\" + str(bolum))\n",
        "    return bolum\n",
        "\n",
        "def permutasyon(n, r):\n",
        "    #print(\"n = \", n, \" r = \", r)\n",
        "    sonuc = 1\n",
        "    for i in range(r):\n",
        "        sonuc = sonuc * (n - i)\n",
        "        #print(\"Psonuc = \", sonuc)\n",
        "    return sonuc\n",
        "\n",
        "def faktoriyel(n):\n",
        "    if n == 1:\n",
        "      return n\n",
        "    elif n < 1:\n",
        "      return (\"Hatalı Giriş!\")\n",
        "    else:\n",
        "      return n * faktoriyel(n-1)\n",
        "\n",
        "def hesapla(p,s,f):\n",
        "    yanit = 1 - (kombinasyon(int(p)-int(f),s) / kombinasyon(p,s))\n",
        "    cozum = \"\"\n",
        "    cozum = \"C(\" + str(p) + \"-\" + str(f) + \",\" + str(s) + \")\"\n",
        "    cozum = \"\\t\\t\" + cozum + \"\\nP(B|i) = 1 -  -----------------------\\n\\t\\t\" + \"C(\" + str(p) + \",\" + str(s) + \")\"\n",
        "    print (\"\\n\" + cozum)\n",
        "    #print (yanit)\n",
        "    return yanit\n",
        "\n",
        "urunSayisi = int(input (\"Alışveriş sitesindeki, belirli bir kategorideki ürün sayısı : \"))\n",
        "favoriler = int(input (\"\\nDaha önceden, ilgili kategoriden 'Beğendiklerim' listesine eklemiş olduğunuz ürün sayısı : \"))\n",
        "indirim = int(input (\"\\nİlgili kategoriden indirime girmiş ürün sayısı : \"))\n",
        "\n",
        "E = hesapla(urunSayisi,indirim,favoriler)\n",
        "print (\"\\nBir alışveriş sitesinde, belirli bir kategoride bulunan \" + str(urunSayisi) + \" adet üründen,\\n indirime girmiş olan \" + str(indirim) + \" adet ürün içinde, daha önceden beğenmiş olduğunuz \" +\n",
        "       str(favoriler) + \" adet üründen\\n en az birinin bulunma olasılığı yaklaşık : %\" + str(int(E*100)) + \" (\" + str(E) +  \")\")"
      ],
      "execution_count": 7,
      "outputs": [
        {
          "output_type": "stream",
          "text": [
            "Alışveriş sitesindeki, belirli bir kategorideki ürün sayısı : 5000\n",
            "\n",
            "Daha önceden, ilgili kategoriden 'Beğendiklerim' listesine eklemiş olduğunuz ürün sayısı : 15\n",
            "\n",
            "İlgili kategoriden indirime girmiş ürün sayısı : 50\n",
            "\n",
            "\t\tC(5000-15,50)\n",
            "P(B|i) = 1 -  -----------------------\n",
            "\t\tC(5000,50)\n",
            "\n",
            "Bir alışveriş sitesinde, belirli bir kategoride bulunan 5000 adet üründen,\n",
            " indirime girmiş olan 50 adet ürün içinde, daha önceden beğenmiş olduğunuz 15 adet üründen\n",
            " en az birinin bulunma olasılığı yaklaşık : %14 (0.14012441782397078)\n"
          ],
          "name": "stdout"
        }
      ]
    }
  ]
}