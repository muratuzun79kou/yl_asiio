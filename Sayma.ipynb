{
  "nbformat": 4,
  "nbformat_minor": 0,
  "metadata": {
    "colab": {
      "name": "Sayma.ipynb",
      "provenance": [],
      "collapsed_sections": [],
      "authorship_tag": "ABX9TyOXHaqvlzGpEyWPTPjeW09w",
      "include_colab_link": true
    },
    "kernelspec": {
      "name": "python3",
      "display_name": "Python 3"
    }
  },
  "cells": [
    {
      "cell_type": "markdown",
      "metadata": {
        "id": "view-in-github",
        "colab_type": "text"
      },
      "source": [
        "<a href=\"https://colab.research.google.com/github/muratuzun79kou/yl_asiio/blob/master/Sayma.ipynb\" target=\"_parent\"><img src=\"https://colab.research.google.com/assets/colab-badge.svg\" alt=\"Open In Colab\"/></a>"
      ]
    },
    {
      "cell_type": "markdown",
      "metadata": {
        "id": "aMR7X_OXxf7W",
        "colab_type": "text"
      },
      "source": [
        "**PERMUTASYON**\n",
        "\n",
        "Permutasyon bir sıralama işlemidir.\n",
        "\n",
        "n ve r birer doğal sayı ve r ≤ n olmak üzere, n elemanlı bir kümenin, herhangi r elemanının bir sıra üzerindeki birbirinden farklı her bir dizilişinin sayısı P(n,r) ile hesaplanır. \n",
        "\n",
        "P(n,r) = n! / (n-r)! şeklinde hesaplanır.\n",
        "\n",
        "**Permütasyonda, nesnelerin diziliş sırası önemlidir!**\n",
        "\n",
        "\n",
        "**ÖRNEK :**\n",
        "\n",
        "1,2,3,4,5,6,7 rakamları kullanılarak 4 basamaklı ve rakamları birbirinden farklı kaç şifre oluşturulabilir?\n",
        "\n",
        "n = 7 ve r = 4\n",
        "\n",
        "P(n,r) = P(7,4) = 7! / (7-3)! = 7! / 3! = 7 x 6 x 5 x 4 = 840\n",
        "\n",
        "Ayrıca, Sıralı, Tekrarlı ve Döner olmak üzere 3 çeşidi vardır.\n",
        "\n",
        "\n",
        "**Geliştirilen Uygulama :**\n",
        "\n",
        "Bir Tekrarlı Permutasyon Sorusuna Ait Çözüm :\n",
        "\n",
        "Kullanıcının gireceği harflerle, anlamlı ya da anlamsız, kaç farklı kelime yazılabileceğini hesaplayan pyton kodunun geliştirilmesi\n"
      ]
    },
    {
      "cell_type": "code",
      "metadata": {
        "id": "4RLE271-xess",
        "colab_type": "code",
        "outputId": "47033287-8c55-41e1-8fc6-27386ba7469e",
        "colab": {
          "base_uri": "https://localhost:8080/",
          "height": 204
        }
      },
      "source": [
        "\"\"\"\n",
        "def permutasyon(n, r):\n",
        "    print(\"n = \", n, \" r = \", r)\n",
        "    sonuc = 1\n",
        "    for i in range(r):      \n",
        "        sonuc = sonuc * (n - i)\n",
        "        print(\"Psonuc = \", sonuc)\n",
        "    return sonuc\n",
        "\"\"\"\n",
        "\n",
        "def faktoriyel(n):\n",
        "    if n == 1:\n",
        "      return n\n",
        "    elif n < 1:\n",
        "      return (\"Hatalı Giriş!\")\n",
        "    else:\n",
        "      return n * faktoriyel(n-1)    \n",
        "\n",
        "def hesapla(listem):\n",
        "    print(\"listem = \", listem)\n",
        "    tekrarlar = {i:listem.count(i) for i in listem}\n",
        "    #print (tekrarlar)\n",
        "\n",
        "    toplam = len(listem)\n",
        "    print (\"Toplam \" + str(toplam) + \" adet harf var.\")\n",
        "\n",
        "    carpim = 1\n",
        "    cozum = \"\"\n",
        "\n",
        "    for i in tekrarlar:        \n",
        "        if(tekrarlar[i] > 1 ): \n",
        "            carpim = carpim * faktoriyel(tekrarlar[i])\n",
        "            cozum = cozum + str(tekrarlar[i]) + \"! \"\n",
        "            print (str(tekrarlar[i]) + \" adet \" + i + \" var.\")\n",
        "\n",
        "    cozum  = \"\\t\\t\" + str(toplam) + \"! \\nÇözüm = ----------------\\n\\t   ( \" + cozum + \")\"\n",
        "    print (cozum)\n",
        "\n",
        "    return faktoriyel(toplam) / carpim\n",
        "\n",
        "def harfleriDuzenle(harfListesi):\n",
        "    duzenliListe = []\n",
        "    harfListesi = harfListesi.replace(\" \",\"\")\n",
        "    duzenliListe = harfListesi.split (\",\")\n",
        "    while \"\" in duzenliListe:\n",
        "        duzenliListe.remove(\"\")\n",
        "    print (\"Girilen Harfler: \", duzenliListe)\n",
        "    return duzenliListe\n",
        "\n",
        "# k, e, l,,,, e ,b,e, k\n",
        "\n",
        "harfler = input (\"Lütfen Harfleri aralarına virgül koyarak yazıp ENTER tuşuna basınız. \")\n",
        "print (\"Girdiğiniz Metin : \", harfler)\n",
        "\n",
        "liste = []\n",
        "liste = harfleriDuzenle(harfler)\n",
        "\n",
        "hesapla(liste)"
      ],
      "execution_count": 0,
      "outputs": [
        {
          "output_type": "stream",
          "text": [
            "Lütfen Harfleri aralarına virgül koyarak yazıp ENTER tuşuna basınız. k, e, l,,,, e ,b,e, k\n",
            "Girdiğiniz Metin :  k, e, l,,,, e ,b,e, k\n",
            "Girilen Harfler:  ['k', 'e', 'l', 'e', 'b', 'e', 'k']\n",
            "listem =  ['k', 'e', 'l', 'e', 'b', 'e', 'k']\n",
            "Toplam 7 adet harf var.\n",
            "2 adet k var.\n",
            "3 adet e var.\n",
            "\t\t7! \n",
            "Çözüm = ----------------\n",
            "\t   ( 2! 3! )\n"
          ],
          "name": "stdout"
        },
        {
          "output_type": "execute_result",
          "data": {
            "text/plain": [
              "420.0"
            ]
          },
          "metadata": {
            "tags": []
          },
          "execution_count": 12
        }
      ]
    }
  ]
}