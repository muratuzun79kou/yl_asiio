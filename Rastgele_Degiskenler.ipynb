{
  "nbformat": 4,
  "nbformat_minor": 0,
  "metadata": {
    "colab": {
      "name": "Rastgele_Degiskenler.ipynb",
      "provenance": [],
      "collapsed_sections": [],
      "authorship_tag": "ABX9TyPksu0kRmChMUUnYmuYP08E",
      "include_colab_link": true
    },
    "kernelspec": {
      "name": "python3",
      "display_name": "Python 3"
    }
  },
  "cells": [
    {
      "cell_type": "markdown",
      "metadata": {
        "id": "view-in-github",
        "colab_type": "text"
      },
      "source": [
        "<a href=\"https://colab.research.google.com/github/muratuzun79kou/yl_asiio/blob/master/Rastgele_Degiskenler.ipynb\" target=\"_parent\"><img src=\"https://colab.research.google.com/assets/colab-badge.svg\" alt=\"Open In Colab\"/></a>"
      ]
    },
    {
      "cell_type": "markdown",
      "metadata": {
        "id": "rnYU17LDyOoe",
        "colab_type": "text"
      },
      "source": [
        "**Binom Rastgele Değişkenleri**\n",
        "\n",
        "Soru: \n",
        "\n",
        "Bir atış poligonunda, antremanlarda hedefi tam ortadan vurma ihtimali 0.4 olan bir polisin arka arkaya yaptığı 10 atışın 3'ünü tam ortadan vurma olasılığı nedir?\n",
        "\n",
        "Cevap: \n",
        "\n",
        "Binom olasılık formülü aşağıdaki gibidir :\n",
        "\n",
        "![alt text](https://github.com/muratuzun79kou/yl_asiio/blob/master/chrome_ffJbDK02L0.png?raw=true)\n",
        "\n",
        "n = 10 (Atış Tekrar Sayısı)\n",
        "\n",
        "x = 3 (İstenen Başarılı Atış Sayısı)\n",
        "\n",
        "P(Başarı) = Başarı olasılığı = 0.4\n",
        "\n",
        "1 - P(Başarı) = 0.6 olur.\n",
        "\n",
        "Formülde yerine koyarsak :\n",
        "\n",
        "P(x) = C(10,3) x 0.4^3 x 0.6^(10-3)"
      ]
    },
    {
      "cell_type": "code",
      "metadata": {
        "id": "FqcVNZ6dycxR",
        "colab_type": "code",
        "outputId": "fc5db968-205a-41dd-b008-2b2b3bad0198",
        "colab": {
          "base_uri": "https://localhost:8080/",
          "height": 35
        }
      },
      "source": [
        "# Faktöriyel Fonksiyonu :\n",
        "def fakt(i):\n",
        "    if i==1:       \n",
        "        return 1\n",
        "    else: \n",
        "        return i * fakt(i-1)\n",
        "\n",
        "# Kombinasyon Fonksiyonu :\n",
        "def komb(n,r):\n",
        "    return int(fakt(n)/(fakt(n-r)*fakt(r)))\n",
        "\n",
        "# Binom Fonksiyonu :\n",
        "def binom(p, n, x):\n",
        "  ynt = komb(n,x) * pow(p,x) * pow((1-p),(n-x))\n",
        "  return ynt\n",
        "\n",
        "ortadanVurmaOlasiligi = 0.4\n",
        "n = 10 \n",
        "x = 3 \n",
        "yanit = binom(ortadanVurmaOlasiligi, n, x)\n",
        "print(str(n) + \" atışta \" + str(x) + \" kere tam ortadan vurma olasılığı : \", yanit)              "
      ],
      "execution_count": 0,
      "outputs": [
        {
          "output_type": "stream",
          "text": [
            "10 atışta 3 kere tam ortadan vurma olasılığı :  0.21499084799999998\n"
          ],
          "name": "stdout"
        }
      ]
    },
    {
      "cell_type": "markdown",
      "metadata": {
        "id": "hauRnC3tx87I",
        "colab_type": "text"
      },
      "source": [
        "**Poisson**\n",
        "\n",
        "Soru: \n",
        "\n",
        "Bir üniversitede yıl sonunda, her bir öğrencinin aldığı her bir derse ait not ortalaması, aldığı derse ait ödev-vize-final-bütünleme notları ve katkı oranları göz önünde bulundurularak hesaplanmaktadır. Bu işlem, bir öğrenci bilgi sistemi otomasyonu aracılığıyla yapılmaktadır. Yıllık ortalama 600.000 not ortalaması hesaplanmaktadır. Yazılımın her bir ortalamada hata yapma olasılığı 0.0000001'dir. Bir yıl sonunda, herhangi 5 not ortalamasının hatalı hesaplanma olasığı nedir?\n",
        "\n",
        "Cevap: \n",
        "\n",
        "λ = 600000 * 0.0000001 = 0.06\n",
        "\n",
        "P(X = 5) = (0.06^5 / 5!) * exp(-0.06)"
      ]
    },
    {
      "cell_type": "code",
      "metadata": {
        "id": "PbYKeFdwyF5r",
        "colab_type": "code",
        "outputId": "68e3ea1e-bc0e-4465-e0c1-1f1e2fb376ab",
        "colab": {
          "base_uri": "https://localhost:8080/",
          "height": 35
        }
      },
      "source": [
        "import math\n",
        "\n",
        "def fakt(i):\n",
        "    if i==1:       \n",
        "        return 1\n",
        "    else: \n",
        "        return i * fakt(i-1)\n",
        "\n",
        "def Poisson(n, k, p):\n",
        "    return ((((n*p))**k)/(faktoriyel(k))) * math.exp(-(n*p))\n",
        "\n",
        "toplam = 600000 # toplam not ortlaması adeti\n",
        "hatali = 5 # hatalı hesaplanması beklenen ortalama sayısı\n",
        "P = 0.0000001 # her bir ortalama için hata yapma olasılığı\n",
        "yanit = Poisson(toplam, hatali, P) \n",
        "print(str(hatali) + \" ortalamanın hatalı olma olaslığı : \" + str(yanit))"
      ],
      "execution_count": 0,
      "outputs": [
        {
          "output_type": "stream",
          "text": [
            "5 ortalamanın hatalı olma olaslığı : 6.102634177625931e-09\n"
          ],
          "name": "stdout"
        }
      ]
    },
    {
      "cell_type": "markdown",
      "metadata": {
        "id": "SVNvUOwyccZV",
        "colab_type": "text"
      },
      "source": [
        "**Zipf**\n",
        "\n",
        "Girilen ya da dosyadan okunan bir metinde bulunan kelimelerin Zipf dağılımlarının gösterilmesi."
      ]
    },
    {
      "cell_type": "code",
      "metadata": {
        "id": "jmp162u_cjpp",
        "colab_type": "code",
        "outputId": "e31874fa-e04d-4270-bc1c-b9c7c50aba3f",
        "colab": {
          "base_uri": "https://localhost:8080/",
          "height": 962
        }
      },
      "source": [
        "#!/usr/bin/env python\n",
        "# -*- coding: utf-8 -*-\n",
        "\n",
        "import matplotlib.pyplot as plt\n",
        "import re\n",
        "from operator import itemgetter\n",
        "\n",
        "metin = \"Sinekli bakkal bulunduğu semtin adını almış olan dar bir sokaktır. Bir geçitten çok bir toplantı yeri gibidir. Bu sokakta oturanlardan biri mahalle imamıdır. Onun kızı, Emine ise babasının istemesine rağmen “Kız Tevfik” denilen  bir halk sanatçısı ile evlenir. Tevfik; orta oyunu, karagöz gibi şeylerle vakit geçirir. Ayrıca Emine ve Tevfik’le birlikte, sokaktaki İstanbul bakkalını işletmektedir. Bir süre sonra Tevfik ile Emine anlaşamazlar ve ayrılırlar. Tevfik yaptığı şaklabanlıklar yüzünden sürülür. Ancak Emine hamiledir, ve  İnadını ve iradesini annesinden, yeteneklerini ise babasından olan bir Rabia isimli bir kızları dünyaya gelir . Emine’nin Babası Rabia’nın dedesi olan imam ise Rabia’yı biraz büyüyünce hafız yapar. Mahallenin bir de konağı vardır: “Selim Paşa Konağı”. Selim Paşanın Hanımı dünyanın tadına varmış,  yaşlandıkça ölüm korkularına kapılmıştır. Ve teselliyi nerede bulacağını şaşırmış bir kadındır. Selim Paşa ise Padişahın dostlarından idi. Oğlu Hilmi ise  babasının aksine Jön Türklerle ilgisi olan bir ihtilalcidir. Büyüklük peşinde bir hayal adamıdır. Konağa giren - çıkan pek çoktur. Peregrini adında bir İtalyan piyanist ve Vehbi Dede adında bir Mevlevî bunların başlıcaları arasındadır. Rabia mevlit ve kuran okumaktaki şöhreti ile  Selim Paşa konağına davet edilir. Peregrini’yi orada tanır. Vehbi dededen musiki dersleri, alır. Rabia biraz büyüdüğünde Hiç görmediği babası Tevfik sürgünden dönmüştür. Rabia annesi ile babası arasında tercih yapmak zorunda kalmış ve Babası Tevfik’i seçmiştir. Bunun üzerine Emine Rabia’ya çok kızmış her namazdan sonra beddua etmeye başlamıştır. Rabia Babasına bakkalda ve karagöz oyunlarında yardım etmekte Mahallenin cücesi olan Rakım Amcası ile beraber hep beraber güzel vakit geçirmektedir. Lakin Tevfik’in kadın kılığına girip Selim Paşanın oğlu Hilmi için Fransa’dan gelen yabancı evrakları feslilerin giremeyeceği Fransız Postanesine gidip alması esnasında yakalanması ile, Tevfik, zaptiye dairesinde “göz patlatan Hakkı” adında ki zorbanın sıkı işkenceleri ile sorguya çekilmiştir. Gene de Hilmi’nin adını vermez sürgüne yollanır.  İş anlaşıldığı için Paşanın oğlu Hilmi de Selim Paşanın emri ile sürgüne Şama sürülecektir. Tevfik yokken Rabia Rakım Amcanın yardımı ile dükkanı idare eder. Vehbi Dede ve Peregrini de kendisine arkadaşlık ederler. Ama babası sürgüne yollandığından sonra bir daha Selim paşa konağına ayak basmaz. Konakta pek sevdiği bir Cariye vardır: Kanarya Hanım. Çerkez asıllı olan Kanarya Hanım da aslında evlenip çırak çıkmıştır. Rabia, Ramazanlarda camileri gezer mukabele okur ara sıra mevlitlere çağrılır. Şehzade Nihat Efendisinin yalısında da Mevlit okumaya davet edilir. Rabia yalıya gittiğinde iç salonun kapıları açılarak sinekli bakkal mescidinin büyük bir toplantı yeri haline getirildiğini görür. Yüzlerce başörtülü kadın dinleyicisi vardır. Bu duygulu kalabalığa yanık ve dokunaklı sesi ile mevlit okuduktan sonra salonun sonunda çok güzel bir mermer heykele benzeyen sarışın bir kadın görür . Bu Kanarya Hanımdır. İki eski dost  birbirlilerinin boynuna atılırlar. Peregrini Rabia’nın okuduğu mevlide hayrandır. Karakterine, olgunluğuna hayrandır. Sonunda , tasarısını Vehbi dedeye açar. Onunda uygun bulması üzerine  Rabia ile evlenmek için dinini değiştirir. Osman adını alır. Vehbi dede de, onu  kızı gibi sevmektedir. Yani Rabia da güzelliği bulan Tanrı sevgisi... İmam da Emine de  öldüğünden Osman’la Rabia Evi onarırlar. Dükkanın üstüne yerleşirler. Rabia’nın gebeliği çok sıkıntılı geçer. Sonunda İstanbul’da ilk defa yapılan bir sezeryan ameliyatı ile kurtulur. Bir oğlu olur. Bu mutlu olayı izleyen yıllarda 1908 meşrutiyeti gelir. Sürgünler yerlerine dönerler. Geri dönenler arasında Tevfik de vardır. Rabia, Osman Rakım Amca , Mahallenin Kibar tulumbacısı, Sabit Beyağabey , Bütün sinekli bakkal onu karşılamaya giderler. Vakti ileamanında  Padişah haini diye İstanbul’dan sürülenlerin hepsi, şimdi birer Hürriyet kahramanı olarak dönmektedir. Tevfik’in bu siyasi görüşlerle ilişiği yoktur. Vapur rıhtımına yanaşıpta sürgünler çıkınca karşılama törenleri başlar. Sabit Beyağabey bir emir verince sinekli bakkal takımı Tevfik’in bile ürkütüp saklanacak  yer aratan bir  coşku ile gösterilerine başlar. Sinekli bakkal delikanlıları Şişmanca bir adamı omuzlarına alırlar. Tevfik’in mahalleye dönüşü dolası ile ateşli bir hürriyet nutku çeken bu adamı Tevfik hemen tanır. Bu kendine işkence eden göz patlatan Muzafferdir. Vehbi Dede ile Osman Tevfik’in Koluna girer ve  ona bir torunu olduğunu haber verirler.\"\n",
        "# işlenecek metin, bir dosyadan alınacaksa yukarıdaki yerine aşağıdaki satırlar kullanılabilir :\n",
        "#dosya = open('test.txt', 'r')\n",
        "#metin = dosya.read()\n",
        "\n",
        "metin = metin.lower()\n",
        "\n",
        "# iki karakterden az kelimeleri dışında bırakıyoruz\n",
        "kelimeler = re.findall(r'(\\b\\w{2,}\\b)', metin)\n",
        "\n",
        "# Grafiklerin anlaşılır olabilmesi için ekrana basılacak sayı sınırı belirledim :\n",
        "sinir = 8\n",
        "\n",
        "frekans = {}\n",
        "for kelime in kelimeler:\n",
        "    if len(kelime.strip())>0 :\n",
        "        toplam = frekans.get(kelime, 0)\n",
        "        frekans[kelime] = toplam + 1\n",
        "    else : del frekans[kelime]\n",
        "\n",
        "genelToplam = sum(frekans.values())\n",
        "print(\"Metinde \" + str(genelToplam) + \" adet kelime bulunmaktadır.\")\n",
        "tekilToplam = len(frekans.values())\n",
        "print(\"Metinde \" + str(tekilToplam) + \" adet tekrarsız kelime bulunmaktadır.\")\n",
        "print(\"Bunlardan \" + str(sinir) + \" ve üzerinde yoğunluğa sahip olanlar için grafikler gösterilecektir.\")\n",
        "\n",
        "for key, value in reversed(sorted(frekans.items(), key=itemgetter(1))):\n",
        "    if(value>=sinir) : \n",
        "        plt.bar('(%' + str(round(value/tekilToplam*100,2)) + ') ' + key + ' (' + str(value) + ')', value)                        \n",
        "        print(key, value)\n",
        "\n",
        "plt.xlabel('Kelimeler', color='red') \n",
        "plt.ylabel('Kelime Sayıları', color='red') \n",
        "plt.title('Kelime Sayısı Grafiği', color='red') \n",
        "plt.xticks(rotation=90, color='red')\n",
        "plt.yticks(color='red')\n",
        "plt.show()\n",
        "print(\"\\n\\n\")\n",
        "enBuyuk = max(frekans.values())\n",
        "i=0\n",
        "for key, value in reversed(sorted(frekans.items(), key=itemgetter(1))):\n",
        "    if(value>=sinir) : \n",
        "        i = i + 1\n",
        "        plt.bar('(' + str(enBuyuk) + '/' + str(i) + '=' + str(round(float(enBuyuk) / float(i),2)) + ') ' + key + ' : n=' + str(i), float(enBuyuk) / float(i))  \n",
        "\n",
        "plt.xlabel('Kelimeler', color='red') \n",
        "plt.ylabel('Max/n değeri', color='red') \n",
        "plt.title('Zipf Grafiği', color='red') \n",
        "plt.xticks(rotation=90, color='red')\n",
        "plt.yticks(color='red')\n",
        "plt.show()         "
      ],
      "execution_count": 0,
      "outputs": [
        {
          "output_type": "stream",
          "text": [
            "Metinde 629 adet kelime bulunmaktadır.\n",
            "Metinde 401 adet tekrarsız kelime bulunmaktadır.\n",
            "Bunlardan 8 ve üzerinde yoğunluğa sahip olanlar için grafikler gösterilecektir.\n",
            "bir 25\n",
            "rabia 17\n",
            "tevfik 16\n",
            "ile 15\n",
            "ve 12\n"
          ],
          "name": "stdout"
        },
        {
          "output_type": "display_data",
          "data": {
            "image/png": "[encoded data removed]",
            "text/plain": [
              "<Figure size 432x288 with 1 Axes>"
            ]
          },
          "metadata": {
            "tags": [],
            "needs_background": "light"
          }
        },
        {
          "output_type": "stream",
          "text": [
            "\n",
            "\n",
            "\n"
          ],
          "name": "stdout"
        },
        {
          "output_type": "display_data",
          "data": {
            "image/png": "[encoded data removed]",
            "text/plain": [
              "<Figure size 432x288 with 1 Axes>"
            ]
          },
          "metadata": {
            "tags": [],
            "needs_background": "light"
          }
        }
      ]
    }
  ]
}