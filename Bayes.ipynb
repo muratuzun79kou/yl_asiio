{
  "nbformat": 4,
  "nbformat_minor": 0,
  "metadata": {
    "colab": {
      "name": "Bayes.ipynb",
      "provenance": [],
      "collapsed_sections": [],
      "authorship_tag": "ABX9TyMdepE7ayIrHGUNUnvMgWSS",
      "include_colab_link": true
    },
    "kernelspec": {
      "name": "python3",
      "display_name": "Python 3"
    }
  },
  "cells": [
    {
      "cell_type": "markdown",
      "metadata": {
        "id": "view-in-github",
        "colab_type": "text"
      },
      "source": [
        "<a href=\"https://colab.research.google.com/github/muratuzun79kou/yl_asiio/blob/master/Bayes.ipynb\" target=\"_parent\"><img src=\"https://colab.research.google.com/assets/colab-badge.svg\" alt=\"Open In Colab\"/></a>"
      ]
    },
    {
      "cell_type": "markdown",
      "metadata": {
        "id": "3Q1lucmdcQne",
        "colab_type": "text"
      },
      "source": [
        "**KOŞULLU OLASILIK VE BAYES TEOREMİ**\n",
        "\n",
        "**Konu :** \n",
        "\n",
        "Bir fabrikadaki üretimde kullanılan cihazlar, ürettikleri ürünlerde kusurlara neden olmaktadırlar. Cihazların hata oranları bilinmektedir.\n",
        "\n",
        "**Amaç :** \n",
        "\n",
        "Üretilen kusurlu veya kusursuz bir ürünün hangi cihaz tarafından üretilmiş olma olasılığının hesaplanması.\n",
        "\n",
        "**Kod İşleyişi :** \n",
        "\n",
        "*   Ürünü üreten cihaz sayısı istenir.\n",
        "*   Sırayla her bir cihazın üretim oranı ve kusurlu üretme oranları istenir.\n",
        "*   Hangi cihaza ait olasılığın hesaplanacağı sorulur.\n",
        "*   Cihazın ürettiği ürünün kusurlu veya kusursuz olma olasılıklarından hangisinin istendiği sorulur."
      ]
    },
    {
      "cell_type": "markdown",
      "metadata": {
        "id": "c9mn9zdpisrB",
        "colab_type": "text"
      },
      "source": [
        ""
      ]
    },
    {
      "cell_type": "code",
      "metadata": {
        "id": "2F1MoS96boNX",
        "colab_type": "code",
        "outputId": "8b944d61-72d6-4483-8b75-288852df544b",
        "colab": {
          "base_uri": "https://localhost:8080/",
          "height": 221
        }
      },
      "source": [
        "#!/usr/bin/env python\n",
        "# -*- coding: utf-8 -*-\n",
        "\n",
        "uretim = []\n",
        "yuzdeler = []\n",
        "kusurlar = []\n",
        "makineler = []\n",
        "makineSayisi = int(input (\"Makine Sayısı : \"))\n",
        "\n",
        "for i in range(makineSayisi):\n",
        "    yuzdeler.append(input (str(i+1) + \". makinenin üretim oranı (%) : \"))\n",
        "    kusurlar.append(input (str(i+1) + \". makinenin kusurlu üretme oranı (%) : \"))\n",
        "    makineler.append(i+1)\n",
        "\n",
        "makine = int(input (\"İşlem Yapılacak Makine \" + str(makineler) + \" : \"))\n",
        "tercih = int(input (\"Kusurlu üretim için 1, Sağlam için 0 giriniz : \"))\n",
        "#print(yuzdeler)\n",
        "#print(kusurlar)\n",
        "\n",
        "if tercih == 1:\n",
        "    for i in range(makineSayisi):\n",
        "        hesap = float(yuzdeler[i]) * float(kusurlar[i]) / 10000\n",
        "        uretim.append(hesap)\n",
        "    pay = float(yuzdeler[makine-1]) * float(kusurlar[makine-1]) / 10000\n",
        "    metin = 'Kusurlu'\n",
        "elif tercih == 0:\n",
        "    for i in range(makineSayisi):\n",
        "        hesap = float(yuzdeler[i]) * float(100-kusurlar[i]) / 10000\n",
        "        uretim.append(hesap)\n",
        "    pay = float(yuzdeler[makine-1]) * float(100-kusurlar[makine-1]) / 10000\n",
        "    metin = 'Sağlam'\n",
        "\n",
        "payda = sum(uretim)\n",
        "yanit = pay / payda\n",
        "#print(yanit)\n",
        "print('\\nSeçilen ' + metin + ' ürünün ' + str(makine) + '. makinede üretilmiş olma olaslığı = ' + str(yanit) + '\\n')"
      ],
      "execution_count": 18,
      "outputs": [
        {
          "output_type": "stream",
          "text": [
            "Makine Sayısı : 3\n",
            "1. makinenin üretim oranı (%) : 30\n",
            "1. makinenin kusurlu üretme oranı (%) : 4\n",
            "2. makinenin üretim oranı (%) : 50\n",
            "2. makinenin kusurlu üretme oranı (%) : 2\n",
            "3. makinenin üretim oranı (%) : 20\n",
            "3. makinenin kusurlu üretme oranı (%) : 5\n",
            "İşlem Yapılacak Makine [1, 2, 3] : 1\n",
            "Kusurlu üretim için 1, Sağlam için 0 giriniz : 1\n",
            "\n",
            "Seçilen Kusurlu ürünün 1. makinede üretilmiş olma olaslığı = 0.375\n",
            "\n"
          ],
          "name": "stdout"
        }
      ]
    }
  ]
}