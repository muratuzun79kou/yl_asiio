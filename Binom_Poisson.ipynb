{
  "nbformat": 4,
  "nbformat_minor": 0,
  "metadata": {
    "colab": {
      "name": "Binom_Poisson.ipynb",
      "provenance": [],
      "collapsed_sections": [],
      "authorship_tag": "ABX9TyPjKd861zjufGX/yzJw9MRN",
      "include_colab_link": true
    },
    "kernelspec": {
      "name": "python3",
      "display_name": "Python 3"
    }
  },
  "cells": [
    {
      "cell_type": "markdown",
      "metadata": {
        "id": "view-in-github",
        "colab_type": "text"
      },
      "source": [
        "<a href=\"https://colab.research.google.com/github/muratuzun79kou/yl_asiio/blob/master/Binom_Poisson.ipynb\" target=\"_parent\"><img src=\"https://colab.research.google.com/assets/colab-badge.svg\" alt=\"Open In Colab\"/></a>"
      ]
    },
    {
      "cell_type": "markdown",
      "metadata": {
        "id": "rnYU17LDyOoe",
        "colab_type": "text"
      },
      "source": [
        "**Binom Rastgele Değişkenleri**\n",
        "\n",
        "Soru: \n",
        "\n",
        "Bir atış poligonunda, antremanlarda hedefi tam ortadan vurma ihtimali 0.4 olan bir polisin arka arkaya yaptığı 10 atışın 3'ünü tam ortadan vurma olasılığı nedir?\n",
        "\n",
        "Cevap: \n",
        "\n",
        "Binom olasılık formülü aşağıdaki gibidir :\n",
        "\n",
        "![alt text](https://github.com/muratuzun79kou/yl_asiio/blob/master/1.gif?raw=true)\n",
        "\n",
        "n = 10 (Atış Tekrar Sayısı)\n",
        "\n",
        "x = 3 (İstenen Başarılı Atış Sayısı)\n",
        "\n",
        "P(Başarı) = Başarı olasılığı = 0.4\n",
        "\n",
        "1 - P(Başarı) = 0.6 olur.\n",
        "\n",
        "Formülde yerine koyarsak :\n",
        "\n",
        "P(x) = C(10,3) x 0.4^3 x 0.6^(10-3)"
      ]
    },
    {
      "cell_type": "code",
      "metadata": {
        "id": "FqcVNZ6dycxR",
        "colab_type": "code",
        "outputId": "fc5db968-205a-41dd-b008-2b2b3bad0198",
        "colab": {
          "base_uri": "https://localhost:8080/",
          "height": 35
        }
      },
      "source": [
        "# Faktöriyel Fonksiyonu :\n",
        "def fakt(i):\n",
        "    if i==1:       \n",
        "        return 1\n",
        "    else: \n",
        "        return i * fakt(i-1)\n",
        "\n",
        "# Kombinasyon Fonksiyonu :\n",
        "def komb(n,r):\n",
        "    return int(fakt(n)/(fakt(n-r)*fakt(r)))\n",
        "\n",
        "# Binom Fonksiyonu :\n",
        "def binom(p, n, x):\n",
        "  ynt = komb(n,x) * pow(p,x) * pow((1-p),(n-x))\n",
        "  return ynt\n",
        "\n",
        "ortadanVurmaOlasiligi = 0.4\n",
        "n = 10 \n",
        "x = 3 \n",
        "yanit = binom(ortadanVurmaOlasiligi, n, x)\n",
        "print(str(n) + \" atışta \" + str(x) + \" kere tam ortadan vurma olasılığı : \", yanit)              "
      ],
      "execution_count": 0,
      "outputs": [
        {
          "output_type": "stream",
          "text": [
            "10 atışta 3 kere tam ortadan vurma olasılığı :  0.21499084799999998\n"
          ],
          "name": "stdout"
        }
      ]
    },
    {
      "cell_type": "markdown",
      "metadata": {
        "id": "hauRnC3tx87I",
        "colab_type": "text"
      },
      "source": [
        "**Poisson**\n",
        "\n",
        "Soru: \n",
        "\n",
        "Bir üniversitede yıl sonunda, her bir öğrencinin aldığı her bir derse ait not ortalaması, aldığı derse ait ödev-vize-final-bütünleme notları ve katkı oranları göz önünde bulundurularak hesaplanmaktadır. Bu işlem, bir öğrenci bilgi sistemi otomasyonu aracılığıyla yapılmaktadır. Yıllık ortalama 600.000 not ortalaması hesaplanmaktadır. Yazılımın her bir ortalamada hata yapma olasılığı 0.0000001'dir. Bir yıl sonunda, herhangi 5 not ortalamasının hatalı hesaplanma olasığı nedir?\n",
        "\n",
        "Cevap: \n",
        "\n",
        "λ = 600000 * 0.0000001 = 0.06\n",
        "\n",
        "P(X = 5) = (0.06^5 / 5!) * exp(-0.06)"
      ]
    },
    {
      "cell_type": "code",
      "metadata": {
        "id": "PbYKeFdwyF5r",
        "colab_type": "code",
        "outputId": "68e3ea1e-bc0e-4465-e0c1-1f1e2fb376ab",
        "colab": {
          "base_uri": "https://localhost:8080/",
          "height": 35
        }
      },
      "source": [
        "import math\n",
        "\n",
        "def fakt(i):\n",
        "    if i==1:       \n",
        "        return 1\n",
        "    else: \n",
        "        return i * fakt(i-1)\n",
        "\n",
        "def Poisson(n, k, p):\n",
        "    return ((((n*p))**k)/(faktoriyel(k))) * math.exp(-(n*p))\n",
        "\n",
        "toplam = 600000 # toplam not ortlaması adeti\n",
        "hatali = 5 # hatalı hesaplanması beklenen ortalama sayısı\n",
        "P = 0.0000001 # her bir ortalama için hata yapma olasılığı\n",
        "yanit = Poisson(toplam, hatali, P) \n",
        "print(str(hatali) + \" ortalamanın hatalı olma olaslığı : \" + str(yanit))"
      ],
      "execution_count": 0,
      "outputs": [
        {
          "output_type": "stream",
          "text": [
            "5 ortalamanın hatalı olma olaslığı : 6.102634177625931e-09\n"
          ],
          "name": "stdout"
        }
      ]
    }
  ]
}